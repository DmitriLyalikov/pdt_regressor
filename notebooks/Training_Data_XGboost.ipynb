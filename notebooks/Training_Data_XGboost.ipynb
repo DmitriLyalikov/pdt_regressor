{
 "nbformat": 4,
 "nbformat_minor": 0,
 "metadata": {
  "colab": {
   "provenance": []
  },
  "kernelspec": {
   "name": "python3",
   "display_name": "Python 3"
  },
  "language_info": {
   "name": "python"
  }
 },
 "cells": [
  {
   "cell_type": "code",
   "source": [
    "\"\"\" Use [Input_XGbooost] and [Output_XGbooost] for training the XGboost algorithm \"\"\"\n",
    "\"\"\" You can adjust the size of the matrix that you use for training by changing\n",
    "Beta_num=50 #number of datapoint for Beta\n",
    "Smax_num=50 #number of datapoint for Smax\n",
    "\"\"\""
   ],
   "metadata": {
    "colab": {
     "base_uri": "https://localhost:8080/",
     "height": 53
    },
    "id": "ATlY3lGXwKFn",
    "outputId": "a4162967-7843-4e3b-ca82-c3bf9297bf4d"
   },
   "execution_count": 21,
   "outputs": [
    {
     "data": {
      "text/plain": "' You can adjust the size of the matrix that you use for training by changing\\nBeta_num=50 #number of datapoint for Beta\\nSmax_num=50 #number of datapoint for Smax\\n'"
     },
     "execution_count": 21,
     "metadata": {},
     "output_type": "execute_result"
    }
   ]
  },
  {
   "cell_type": "code",
   "execution_count": 22,
   "metadata": {
    "colab": {
     "base_uri": "https://localhost:8080/"
    },
    "id": "jf2fqbOvtY0h",
    "outputId": "ebc3b9da-9543-4085-9399-926e6f236a46"
   },
   "outputs": [
    {
     "name": "stdout",
     "output_type": "stream",
     "text": [
      "Don't know how to reset  #, please run `%reset?` for details\n",
      "Don't know how to reset  to, please run `%reset?` for details\n",
      "Don't know how to reset  clean, please run `%reset?` for details\n",
      "Don't know how to reset  the, please run `%reset?` for details\n",
      "Don't know how to reset  memory:, please run `%reset?` for details\n",
      "Don't know how to reset  you, please run `%reset?` for details\n",
      "Don't know how to reset  need, please run `%reset?` for details\n",
      "Don't know how to reset  to, please run `%reset?` for details\n",
      "Don't know how to reset  input, please run `%reset?` for details\n",
      "Don't know how to reset  y, please run `%reset?` for details\n"
     ]
    }
   ],
   "source": [
    "%reset # To clean the memory: you need to input y\n",
    "#! pip install circle-fit #This installs the circle fit method"
   ]
  },
  {
   "cell_type": "code",
   "source": [
    "from circle_fit import taubinSVD\n",
    "import numpy as np\n",
    "from scipy.integrate import odeint\n",
    "import matplotlib.pyplot as plt\n",
    "import math"
   ],
   "metadata": {
    "id": "VieQ9q-_vytR"
   },
   "execution_count": 23,
   "outputs": []
  },
  {
   "cell_type": "code",
   "source": [
    "#All functions are defined in this block\n",
    "\n",
    "def Drop_Profil(z,t,Beta):\n",
    "    x = z[0]\n",
    "    y = z[1]\n",
    "    phi=z[2]    \n",
    "    dxdt = math.cos(phi)\n",
    "    dydt = math.sin(phi)\n",
    "    dphidt=2-Beta*y-math.sin(phi)/x\n",
    "    dzdt = [dxdt,dydt,dphidt]\n",
    "    return dzdt\n",
    "\n",
    "#Adding noise to the drop profile\n",
    "def Add_Noise_Drop_Profile(z,noise_Percent_of_datamean):\n",
    "  y=z[:,1]\n",
    "  x=z[:,0]\n",
    "  noise = np.random.normal(0,1,len(x)) #normal distribution mean=0 STD=1\n",
    "  #Adding fraction of data average as noise\n",
    "  x=x+noise/noise.max()*noise_Percent_of_datamean*x.mean()\n",
    "  y=y+noise/noise.max()*noise_Percent_of_datamean*y.mean()\n",
    "  #Sorting data from ymin to ymax for further analysis\n",
    "  loc_y_incr=np.argsort(y)\n",
    "  x=x[loc_y_incr] #sorted from apex\n",
    "  y=y[loc_y_incr] #sorted from apex\n",
    "  return x,y\n",
    "\n",
    "#Finding Equator radius (Re) and Rs @ y=2Re\n",
    "def Find_Re_Rs(x,y,n,Drop_Height):\n",
    "  # at i_th x: we average from i-n to i+n which means 11 points\n",
    "  global R_e\n",
    "  R_e=0\n",
    "  i=n\n",
    "  def Average_x(x,i,n):\n",
    "      # i-n>=0\n",
    "    s=0\n",
    "    for j in range(i-n,i+n+1):\n",
    "      s=s+x[j]\n",
    "    return s/(2*n+1) \n",
    "  def Recur_Equator_Radius(x,i,n):\n",
    "    global R_e\n",
    "  #R_e is the equator radius: must be defined here not outside\n",
    "  #We use recursive approach: Start from Apex continue until x decreases\n",
    "  #At i-th point we averagne x of x-n to x+n to subpress noise\n",
    "  #We compare x_i_th vs x_i+1_th until it decrease to find equator\n",
    "    if Average_x(x,i,n)<Average_x(x,i+1,n) and i<=len(x)-n-3:\n",
    "      i=i+1\n",
    "      Output=Recur_Equator_Radius(x,i,n)\n",
    "      if Output is not None: \n",
    "        # Since recursive returns None!!! we use global Variable\n",
    "        R_e=Output   \n",
    "    else:\n",
    "      if i<=len(x)*0.7:\n",
    "        # I assumed 70% of drop is enough for R_e\n",
    "        # print(i)\n",
    "        # print(x[i])\n",
    "        return x[i]\n",
    "      else:\n",
    "        return\n",
    "  #A recursive function that returns equator radius      \n",
    "  Recur_Equator_Radius(x,i,n)\n",
    "  if R_e==0:\n",
    "    # R_e=0: drop is not well-deformed e.g. Beta>0.7. Find R_e from cirle fitting\n",
    "    # I selected 40% of the total number of points for circle fitting\n",
    "    num_point_RH_Circlefit=round(0.4*len(x))  \n",
    "    Points_RH_Circlefit=np.stack((x[:num_point_RH_Circlefit],y[:num_point_RH_Circlefit]),axis=1)\n",
    "    xc, yc, R_e, sigma = taubinSVD(Points_RH_Circlefit)\n",
    "\n",
    "  # Find R_s at y=2*R_e \n",
    "  if R_e<0.5*Drop_Height:\n",
    "    #res=index of y if y>2*R_e\n",
    "    res = next(xx for xx, val in enumerate(y) if val > 2*R_e)\n",
    "    R_s=x[res]\n",
    "  else:\n",
    "    # Drop is too small\n",
    "    R_s=R_Cap\n",
    "  return R_e,R_s"
   ],
   "metadata": {
    "id": "_micy3jvtuIw"
   },
   "execution_count": 24,
   "outputs": []
  },
  {
   "cell_type": "code",
   "source": [
    "#Generating the input and outpot for NN\n",
    "#input is called Input_NN\n",
    "#output is called Output_NNt_NN\n",
    "#The size of input: row=Beta_num*Smax_num column=2*num_point_integration\n",
    "\n",
    "\n",
    "# initial condition\n",
    "num_point_integration=200\n",
    "noise_Percent_of_datamean=0.01\n",
    "\n",
    "Beta_min=0.4\n",
    "Beta_max=0.8\n",
    "Beta_num=50 #number of datapoint for Beta\n",
    "Smax_num=50 #number of datapoint for Smax\n",
    "\n",
    "#We decide how many outputs and input we need\n",
    "Num_Output_Var=1 \n",
    "Num_Input_Var=5\n",
    "\n",
    "#size of input\n",
    "Input_XGbooost=np.zeros((Beta_num*Smax_num,Num_Input_Var))\n",
    "Output_XGbooost=np.zeros((Beta_num*Smax_num,Num_Output_Var)) \n",
    "\n",
    "Row_num=0\n",
    "\n",
    "for Beta in np.linspace(Beta_min, Beta_max,num=Beta_num):\n",
    "  for Smax in np.linspace(2.31+11.4*Beta-27.1*Beta**2+16.5*Beta**3,28.4-85.1*Beta+107*Beta**2-46.9*Beta**3,num=Smax_num):\n",
    "    # solve ODE to generate the drop profile datapoint\n",
    "    z0 = [0.0000001,0.0000001,0.0000001]\n",
    "    t = np.linspace(0,Smax,num_point_integration)\n",
    "    z = odeint(Drop_Profil,z0,t,args=(Beta,)) #half of drop profile\n",
    "    #Data_point=np.concatenate((z[:,0:2],np.stack((-z[:,0],z[:,1]),axis=1))) #Complete drop profile\n",
    "\n",
    "    # Adding noise to the drop profile datapoint\n",
    "    x,y=Add_Noise_Drop_Profile(z,noise_Percent_of_datamean)    \n",
    "    \n",
    "    #Generating outputs\n",
    "    Drop_Height=y[-1] #Drop Height\n",
    "    R_Cap=x[-1] #Capillary radius\n",
    "    #plt.plot(x,y,'bo')\n",
    "    R_e,R_s=Find_Re_Rs(x,y,5,Drop_Height) #Equatorial Radius and Rs \n",
    "    \n",
    "    Input_XGbooost[Row_num,:]=[Drop_Height,R_Cap,R_s,R_e,Smax]\n",
    "    Output_XGbooost[Row_num,:]=Beta\n",
    "\n",
    "    Row_num+=1\n"
   ],
   "metadata": {
    "id": "xUgGRLtduCBZ"
   },
   "execution_count": 25,
   "outputs": []
  },
  {
   "cell_type": "code",
   "execution_count": 36,
   "outputs": [],
   "source": [
    "import pandas as pd\n",
    "labels  = ['Drop Height', 'Capillary Radius', 'R-s', 'R-e', 'Smax']\n",
    "label_y = ['Beta']\n",
    "df_y = pd.DataFrame(data=Output_XGbooost, columns=label_y)\n",
    "df = pd.DataFrame(data=Input_XGbooost, columns=labels)\n",
    "\n",
    "df = pd.concat([df, df_y], axis=1)\n",
    "#print(df)\n",
    "df.head()\n",
    "df.to_csv('../data/pdt-dataset.csv', index=False)"
   ],
   "metadata": {
    "collapsed": false
   }
  }
 ]
}
